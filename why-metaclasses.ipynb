{
 "cells": [
  {
   "cell_type": "markdown",
   "metadata": {},
   "source": [
    "<img src=\"./images/Front_Lightning.svg\"/>\n",
    "\n",
    "[Photo](https://www.flickr.com/photos/ikewinski/8029865920) by Mike Lewinski / [CC BY 2.0](https://creativecommons.org/licenses/by/2.0/)"
   ]
  },
  {
   "cell_type": "code",
   "execution_count": 36,
   "metadata": {
    "collapsed": true,
    "slideshow": {
     "slide_type": "skip"
    }
   },
   "outputs": [],
   "source": [
    "# Note: run but don't show this block.\n",
    "# Stubs so the examples works\n",
    "class DeathRay(object):\n",
    "    def __init__(self, *args, **kwargs): pass\n",
    "    def vaporize(self, *args, **kwargs): pass\n",
    "class TimeMachine(object):\n",
    "    def go(self, *args, **kwargs):\n",
    "        pass"
   ]
  },
  {
   "cell_type": "markdown",
   "metadata": {
    "slideshow": {
     "slide_type": "subslide"
    }
   },
   "source": [
    "# The Cyborg class"
   ]
  },
  {
   "cell_type": "code",
   "execution_count": 37,
   "metadata": {
    "collapsed": true,
    "scrolled": true
   },
   "outputs": [],
   "source": [
    "import time\n",
    "\n",
    "class Cyborg(object):\n",
    "\n",
    "    def __init__(self, name):\n",
    "        self.name = name\n",
    "        self.weapon = DeathRay(ammunition=25)\n",
    "        self.teleporter = TimeMachine()\n",
    "\n",
    "    def travel(self, destination, year):\n",
    "        self.teleporter.go(destination, year)\n",
    "        time.sleep(0.25)  # not instant, but almost\n",
    "\n",
    "    def attack(self, target):\n",
    "        self.weapon.vaporize(target)"
   ]
  },
  {
   "cell_type": "markdown",
   "metadata": {},
   "source": [
    "This is our class, and we want to log the calls to _every_ method."
   ]
  },
  {
   "cell_type": "markdown",
   "metadata": {
    "slideshow": {
     "slide_type": "subslide"
    }
   },
   "source": [
    "# Attempt 1: print() calls everywhere"
   ]
  },
  {
   "cell_type": "markdown",
   "metadata": {},
   "source": [
    "No point in denying it: this is what many of us _would_ do if not supervised by an adult. "
   ]
  },
  {
   "cell_type": "code",
   "execution_count": 38,
   "metadata": {
    "collapsed": true,
    "scrolled": true
   },
   "outputs": [],
   "source": [
    "import time\n",
    "\n",
    "class Cyborg(object):\n",
    "\n",
    "    def __init__(self, name):\n",
    "        print(\"Creating new Cyborg with name '{}'\".format(name))\n",
    "        self.name = name\n",
    "        self.weapon = DeathRay(ammunition=25)\n",
    "        self.teleporter = TimeMachine()\n",
    "\n",
    "    def travel(self, destination, year):\n",
    "        print(\"Travelling to {} and year {}\".format(destination, year))\n",
    "        self.teleporter.go(destination, year)\n",
    "        time.sleep(0.25)  # not instant, but almost\n",
    "\n",
    "    def attack(self, target):\n",
    "        print(\"Attacking {}\".format(target))\n",
    "        self.weapon.vaporize(target)"
   ]
  },
  {
   "cell_type": "code",
   "execution_count": 39,
   "metadata": {
    "scrolled": true,
    "slideshow": {
     "slide_type": "subslide"
    }
   },
   "outputs": [
    {
     "name": "stdout",
     "output_type": "stream",
     "text": [
      "Creating new Cyborg with name 'T-1000'\n",
      "Travelling to Los Angeles and year 1995\n",
      "Attacking Sarah Connor\n",
      "Attacking John Connor\n"
     ]
    }
   ],
   "source": [
    "robot = Cyborg('T-1000')\n",
    "robot.travel('Los Angeles', 1995)\n",
    "robot.attack('Sarah Connor')\n",
    "robot.attack('John Connor')"
   ]
  },
  {
   "cell_type": "markdown",
   "metadata": {
    "slideshow": {
     "slide_type": "-"
    }
   },
   "source": [
    "\"The most effective debugging tool is still careful thought, coupled with judiciously placed print statements\"  [Brian W. Kernighan](https://en.wikipedia.org/wiki/Brian_Kernighan)."
   ]
  },
  {
   "cell_type": "markdown",
   "metadata": {
    "slideshow": {
     "slide_type": "subslide"
    }
   },
   "source": [
    "# Attempt 2: The `logging` module"
   ]
  },
  {
   "cell_type": "code",
   "execution_count": 40,
   "metadata": {
    "collapsed": true,
    "scrolled": true,
    "slideshow": {
     "slide_type": "-"
    }
   },
   "outputs": [],
   "source": [
    "import time\n",
    "import logging\n",
    "logging.basicConfig(format='%(asctime)s %(message)s', level=logging.DEBUG)\n",
    "\n",
    "class Cyborg(object):\n",
    "\n",
    "    def __init__(self, name):\n",
    "        logging.info(\"Creating new Cyborg with name '%s'\", name)\n",
    "        self.name = name\n",
    "        self.weapon = DeathRay(ammunition=25)\n",
    "        self.teleporter = TimeMachine()\n",
    "\n",
    "    def travel(self, destination, year):\n",
    "        logging.info(\"Travelling to %s and year %s\", destination, year)\n",
    "        self.teleporter.go(destination, year)\n",
    "        time.sleep(0.25)  # not instant, but almost\n",
    "\n",
    "    def attack(self, target):\n",
    "        logging.info(\"Attacking %s\", target)\n",
    "        self.weapon.vaporize(target)"
   ]
  },
  {
   "cell_type": "code",
   "execution_count": 41,
   "metadata": {
    "slideshow": {
     "slide_type": "subslide"
    }
   },
   "outputs": [
    {
     "name": "stderr",
     "output_type": "stream",
     "text": [
      "2017-09-23 13:07:35,306 Creating new Cyborg with name 'T-1000'\n",
      "2017-09-23 13:07:35,308 Travelling to Los Angeles and year 1995\n",
      "2017-09-23 13:07:35,559 Attacking Sarah Connor\n",
      "2017-09-23 13:07:35,560 Attacking John Connor\n"
     ]
    }
   ],
   "source": [
    "robot = Cyborg('T-1000')\n",
    "robot.travel('Los Angeles', 1995)\n",
    "robot.attack('Sarah Connor')\n",
    "robot.attack('John Connor')"
   ]
  },
  {
   "cell_type": "markdown",
   "metadata": {
    "slideshow": {
     "slide_type": "subslide"
    }
   },
   "source": [
    "# Problem: there're logging calls everywhere\n",
    "\n",
    "- We must add manually the call to e.g. `logging.info()` to every method.\n",
    "- Whoever adds a new method in the future might forget to do it.\n",
    "- What if we had three _hundred_ methods, instead of three?\n",
    "- Also, copy-pasting function calls is boring."
   ]
  },
  {
   "cell_type": "code",
   "execution_count": 42,
   "metadata": {
    "collapsed": true,
    "scrolled": true,
    "slideshow": {
     "slide_type": "subslide"
    }
   },
   "outputs": [],
   "source": [
    "import time\n",
    "import logging\n",
    "logging.basicConfig(format='%(asctime)s %(message)s', level=logging.DEBUG)\n",
    "\n",
    "class Cyborg(object):\n",
    "\n",
    "    def __init__(self, name):\n",
    "        logging.info(\"Creating new Cyborg with name '%s'\", name)\n",
    "        self.name = name\n",
    "        self.weapon = DeathRay(ammunition=25)\n",
    "        self.teleporter = TimeMachine()\n",
    "        self.alive = True\n",
    "\n",
    "    def travel(self, destination, year):\n",
    "        logging.info(\"Travelling to %s and year %s\", destination, year)\n",
    "        self.teleporter.go(destination, year)\n",
    "        time.sleep(0.25)  # not instant, but almost\n",
    "\n",
    "    def attack(self, target):\n",
    "        logging.info(\"Attacking %s\", target)\n",
    "        self.weapon.vaporize(target)\n",
    "        \n",
    "    def selfdestroy(self):\n",
    "        self.alive = False"
   ]
  },
  {
   "cell_type": "markdown",
   "metadata": {},
   "source": [
    "We added `Cyborg.selfdestroy()`, but forgot to add the logging call."
   ]
  },
  {
   "cell_type": "markdown",
   "metadata": {
    "slideshow": {
     "slide_type": "slide"
    }
   },
   "source": [
    "# Detour: Decorators Crash Course\n",
    "\n",
    "What are decorators and what are they useful for?\n",
    "\n",
    "<img src=\"./images/Lightning_Łódź.jpg\" style=\"height: 400px; width:auto\"/>\n",
    "\n",
    "[Photo](https://www.flickr.com/photos/paszczak000/3659732549/) by Kamil Porembiński / [CC BY-SA 2.0](https://creativecommons.org/licenses/by-sa/2.0/)"
   ]
  },
  {
   "cell_type": "markdown",
   "metadata": {
    "slideshow": {
     "slide_type": "subslide"
    }
   },
   "source": [
    "# First-class objects\n",
    "\n",
    "> \"A first class object is an entity that can be dynamically created, destroyed, passed to a function, returned as a value, and have all the rights as other variables in the programming language have\" --- [StackOverflow](https://stackoverflow.com/a/245208)\n",
    "\n",
    "* Functions are first-class objects.\n",
    "* Classes are first-class objects too.\n",
    "* In fact, in Python _everything_ is a first-class object.\n",
    "\n",
    "This mean that if we take e.g. a function, we can...\n"
   ]
  },
  {
   "cell_type": "markdown",
   "metadata": {
    "slideshow": {
     "slide_type": "subslide"
    }
   },
   "source": [
    "## Assign it to a variable\n",
    "\n",
    "Take a function, for example. We can assign it to a variable like any other object."
   ]
  },
  {
   "cell_type": "code",
   "execution_count": 43,
   "metadata": {},
   "outputs": [
    {
     "name": "stdout",
     "output_type": "stream",
     "text": [
      "7\n"
     ]
    }
   ],
   "source": [
    "numbers = [3, 5, 7, 1]\n",
    "print(max(numbers))"
   ]
  },
  {
   "cell_type": "code",
   "execution_count": 44,
   "metadata": {},
   "outputs": [
    {
     "name": "stdout",
     "output_type": "stream",
     "text": [
      "7\n"
     ]
    }
   ],
   "source": [
    "func = max\n",
    "print(func(numbers))  # same as calling max()"
   ]
  },
  {
   "cell_type": "markdown",
   "metadata": {},
   "source": [
    "No parentheses because we are not calling the function."
   ]
  },
  {
   "cell_type": "markdown",
   "metadata": {
    "slideshow": {
     "slide_type": "subslide"
    }
   },
   "source": [
    "## Pass it as argument\n",
    "\n",
    "... _to_ another function:"
   ]
  },
  {
   "cell_type": "code",
   "execution_count": 45,
   "metadata": {},
   "outputs": [
    {
     "name": "stdout",
     "output_type": "stream",
     "text": [
      "7\n",
      "1\n"
     ]
    }
   ],
   "source": [
    "def call(func, values):\n",
    "    return func(values)\n",
    "\n",
    "print(call(max, numbers))\n",
    "print(call(min, numbers))"
   ]
  },
  {
   "cell_type": "markdown",
   "metadata": {},
   "source": [
    "This is used in real life for [callbacks][1], among others.\n",
    "\n",
    "[1]: https://en.wikipedia.org/wiki/Callback_(computer_programming)"
   ]
  },
  {
   "cell_type": "markdown",
   "metadata": {
    "slideshow": {
     "slide_type": "subslide"
    }
   },
   "source": [
    "## Return it\n",
    "\n",
    "... _from_ another function:"
   ]
  },
  {
   "cell_type": "code",
   "execution_count": 46,
   "metadata": {},
   "outputs": [
    {
     "name": "stdout",
     "output_type": "stream",
     "text": [
      "Function: <built-in function max>\n",
      "Result: 7\n"
     ]
    }
   ],
   "source": [
    "import random                                                               \n",
    "\n",
    "func = random.choice([max, min])\n",
    "print(\"Function:\", func)\n",
    "print(\"Result:\", func(numbers))"
   ]
  },
  {
   "cell_type": "markdown",
   "metadata": {
    "slideshow": {
     "slide_type": "subslide"
    }
   },
   "source": [
    "## Nested functions\n",
    "\n",
    "Define it within another function, and return it!"
   ]
  },
  {
   "cell_type": "code",
   "execution_count": 47,
   "metadata": {},
   "outputs": [
    {
     "name": "stdout",
     "output_type": "stream",
     "text": [
      "Number: 4\n",
      "Square: 16\n",
      "Cube  : 64\n"
     ]
    }
   ],
   "source": [
    "def get_power_function(exponent):\n",
    "    \"\"\"Returns a function to compute the exponent-th power.\"\"\"\n",
    "    \n",
    "    def power(n):\n",
    "        return n ** exponent\n",
    "    return power\n",
    "\n",
    "square = get_power_function(2)\n",
    "cube   = get_power_function(3)\n",
    "n = 4\n",
    "\n",
    "print(\"Number:\", 4)\n",
    "print(\"Square:\", square(n))\n",
    "print(\"Cube  :\", cube(n))"
   ]
  },
  {
   "cell_type": "markdown",
   "metadata": {
    "slideshow": {
     "slide_type": "subslide"
    }
   },
   "source": [
    "# So, decorators...\n",
    "\n",
    "... are \"wrappers\" that let us execute code _before_ and _after_ the function that they decorate without modifying the function itself. We:\n",
    "\n",
    "* Take the function as an argument.\n",
    "* Add some behaviour, wrapping it in a new function.\n",
    "* Return (and later use) the new function."
   ]
  },
  {
   "cell_type": "code",
   "execution_count": 48,
   "metadata": {
    "collapsed": true,
    "slideshow": {
     "slide_type": "subslide"
    }
   },
   "outputs": [],
   "source": [
    "import time\n",
    "\n",
    "def measure_time(func):\n",
    "    \"\"\"A decorator for measuring the execution time of a function.\"\"\"\n",
    "\n",
    "    def wrapped(*args):\n",
    "        tstart = time.time()\n",
    "        result = func(*args)\n",
    "        tend = time.time()\n",
    "        tdelta = tend - tstart\n",
    "        print(\"Function call took {} seconds\".format(tdelta))\n",
    "        return result\n",
    "    \n",
    "    return wrapped"
   ]
  },
  {
   "cell_type": "markdown",
   "metadata": {},
   "source": [
    "Note: no `**kwargs` for simplicity's sake."
   ]
  },
  {
   "cell_type": "markdown",
   "metadata": {
    "slideshow": {
     "slide_type": "subslide"
    }
   },
   "source": [
    "A more Pythonic approach, by the way, would be to use [finally](https://docs.python.org/3/tutorial/errors.html#defining-clean-up-actions):"
   ]
  },
  {
   "cell_type": "code",
   "execution_count": 49,
   "metadata": {
    "collapsed": true
   },
   "outputs": [],
   "source": [
    "import time\n",
    "\n",
    "def measure_time(func):\n",
    "    \"\"\"A decorator for measuring the execution time of a function.\"\"\"\n",
    "\n",
    "    def wrapped(*args):\n",
    "        try:\n",
    "            tstart = time.time()\n",
    "            return func(*args)\n",
    "        finally:\n",
    "            tend = time.time()\n",
    "            tdelta = tend - tstart\n",
    "            print(\"Function call took {} seconds\".format(tdelta))\n",
    "\n",
    "    return wrapped"
   ]
  },
  {
   "cell_type": "markdown",
   "metadata": {},
   "source": [
    "No need to store the result in a variable to return it later."
   ]
  },
  {
   "cell_type": "markdown",
   "metadata": {
    "slideshow": {
     "slide_type": "subslide"
    }
   },
   "source": [
    "Let's now decorate something:"
   ]
  },
  {
   "cell_type": "code",
   "execution_count": 50,
   "metadata": {},
   "outputs": [
    {
     "name": "stdout",
     "output_type": "stream",
     "text": [
      "Function call took 3.337860107421875e-06 seconds\n",
      "[9, 25, 49, 1]\n"
     ]
    }
   ],
   "source": [
    "def square_everything(numbers):\n",
    "    \"\"\"Return the square of all the numbers.\"\"\"\n",
    "    \n",
    "    result = []\n",
    "    for n in numbers:\n",
    "        result.append(n ** 2)\n",
    "    return result\n",
    "\n",
    "func = measure_time(square_everything)\n",
    "print(func(numbers))"
   ]
  },
  {
   "cell_type": "markdown",
   "metadata": {
    "slideshow": {
     "slide_type": "subslide"
    }
   },
   "source": [
    "# Missing attributes\n",
    "\n",
    "A problem with our decorated function is that we lose attributes such as the name or docstring."
   ]
  },
  {
   "cell_type": "code",
   "execution_count": 51,
   "metadata": {},
   "outputs": [
    {
     "name": "stdout",
     "output_type": "stream",
     "text": [
      "Name: square_everything\n",
      "Docstring: Return the square of all the numbers.\n"
     ]
    }
   ],
   "source": [
    "def square_everything(numbers):\n",
    "    \"\"\"Return the square of all the numbers.\"\"\"\n",
    "    \n",
    "    result = []\n",
    "    for n in numbers:\n",
    "        result.append(n ** 2)\n",
    "    return result\n",
    "\n",
    "print(\"Name:\", square_everything.__name__)\n",
    "print(\"Docstring:\", square_everything.__doc__)"
   ]
  },
  {
   "cell_type": "markdown",
   "metadata": {
    "slideshow": {
     "slide_type": "subslide"
    }
   },
   "source": [
    "However..."
   ]
  },
  {
   "cell_type": "code",
   "execution_count": 52,
   "metadata": {
    "slideshow": {
     "slide_type": "-"
    }
   },
   "outputs": [
    {
     "name": "stdout",
     "output_type": "stream",
     "text": [
      "Name: wrapped\n",
      "Docstring: None\n"
     ]
    }
   ],
   "source": [
    "func = measure_time(square_everything)\n",
    "\n",
    "print(\"Name:\", func.__name__)\n",
    "print(\"Docstring:\", func.__doc__)"
   ]
  },
  {
   "cell_type": "markdown",
   "metadata": {},
   "source": [
    "This is unfortunate, as these are great for e.g. debugging."
   ]
  },
  {
   "cell_type": "markdown",
   "metadata": {
    "slideshow": {
     "slide_type": "subslide"
    }
   },
   "source": [
    "# functools.wraps()\n",
    "\n",
    "The [`wraps()`](https://docs.python.org/3/library/functools.html#functools.wraps) function allows us to overwrite the function attributes (`__name__`, `__doc__`, `__module__`, etc) attributes of the wrapper function with those of the _original_ function."
   ]
  },
  {
   "cell_type": "code",
   "execution_count": 53,
   "metadata": {
    "collapsed": true
   },
   "outputs": [],
   "source": [
    "import functools\n",
    "import time\n",
    "\n",
    "def measure_time(func):\n",
    "    \"\"\"A decorator for measuring the execution time of a function.\"\"\"\n",
    "\n",
    "    @functools.wraps(func)  # note this\n",
    "    def wrapped(*args):\n",
    "        try:\n",
    "            tstart = time.time()\n",
    "            return func(*args)\n",
    "        finally:\n",
    "            tend = time.time()\n",
    "            tdelta = tend - tstart\n",
    "            print(\"Function call took {} seconds\".format(tdelta))\n",
    "\n",
    "    return wrapped"
   ]
  },
  {
   "cell_type": "markdown",
   "metadata": {
    "slideshow": {
     "slide_type": "subslide"
    }
   },
   "source": [
    "In this manner, the changes to the function are transparent."
   ]
  },
  {
   "cell_type": "code",
   "execution_count": 54,
   "metadata": {},
   "outputs": [
    {
     "name": "stdout",
     "output_type": "stream",
     "text": [
      "Name: square_everything\n",
      "Docstring: Return the square of all the numbers.\n"
     ]
    }
   ],
   "source": [
    "def square_everything(numbers):\n",
    "    \"\"\"Return the square of all the numbers.\"\"\"\n",
    "    \n",
    "    result = []\n",
    "    for n in numbers:\n",
    "        result.append(n ** 2)\n",
    "    return result\n",
    "\n",
    "func = measure_time(square_everything)\n",
    "\n",
    "print(\"Name:\", func.__name__)\n",
    "print(\"Docstring:\", func.__doc__)"
   ]
  },
  {
   "cell_type": "markdown",
   "metadata": {
    "slideshow": {
     "slide_type": "subslide"
    }
   },
   "source": [
    "# Python's Decorator Syntax\n",
    "\n",
    "But we don't want to call our function `func`."
   ]
  },
  {
   "cell_type": "code",
   "execution_count": 55,
   "metadata": {},
   "outputs": [],
   "source": [
    "func = measure_time(square_everything)"
   ]
  },
  {
   "cell_type": "markdown",
   "metadata": {
    "slideshow": {
     "slide_type": "-"
    }
   },
   "source": [
    "Let's keep the original name:"
   ]
  },
  {
   "cell_type": "code",
   "execution_count": 56,
   "metadata": {},
   "outputs": [
    {
     "name": "stdout",
     "output_type": "stream",
     "text": [
      "Function call took 4.0531158447265625e-06 seconds\n",
      "[9, 25, 49, 1]\n"
     ]
    }
   ],
   "source": [
    "def square_everything(numbers):\n",
    "    \"\"\"Return the square of all the numbers.\"\"\"\n",
    "    \n",
    "    result = []\n",
    "    for n in numbers:\n",
    "        result.append(n ** 2)\n",
    "    return result\n",
    "\n",
    "square_everything = measure_time(square_everything)\n",
    "print(square_everything(numbers))"
   ]
  },
  {
   "cell_type": "markdown",
   "metadata": {
    "slideshow": {
     "slide_type": "subslide"
    }
   },
   "source": [
    "Instead of..."
   ]
  },
  {
   "cell_type": "code",
   "execution_count": 57,
   "metadata": {
    "collapsed": true
   },
   "outputs": [],
   "source": [
    "square_everything = measure_time(square_everything)"
   ]
  },
  {
   "cell_type": "markdown",
   "metadata": {},
   "source": [
    "... we can apply a decorator using this shortcut:"
   ]
  },
  {
   "cell_type": "code",
   "execution_count": 58,
   "metadata": {},
   "outputs": [
    {
     "name": "stdout",
     "output_type": "stream",
     "text": [
      "Function call took 3.0994415283203125e-06 seconds\n",
      "[9, 25, 49, 1]\n"
     ]
    }
   ],
   "source": [
    "@measure_time\n",
    "def square_everything(numbers):\n",
    "    result = []\n",
    "    for n in numbers:\n",
    "        result.append(n ** 2)\n",
    "    return result\n",
    "\n",
    "print(square_everything(numbers))"
   ]
  },
  {
   "cell_type": "markdown",
   "metadata": {},
   "source": [
    "That is: apply `measure_time` to `square_everything` and store it in `square_everything`. We're effective replacing it with the updated, wrapped version."
   ]
  },
  {
   "cell_type": "markdown",
   "metadata": {
    "slideshow": {
     "slide_type": "subslide"
    }
   },
   "source": [
    "# There's much more\n",
    "\n",
    "* We can chain decorators, applying 2+ to the same function.\n",
    "* We can have decorators that take arguments. \n",
    "* A closely-related concept are _closures_.\n",
    "\n",
    "But this is enough for now.\n",
    "\n",
    "### Recommended readings:\n",
    "\n",
    "* [Decorator Basics](https://stackoverflow.com/a/1594484) on Stack Overflow.\n",
    "* [The closures that moved Spielberg](https://www.youtube.com/watch?v=rrL3CQNOFRc) at PyConES 2016."
   ]
  },
  {
   "cell_type": "markdown",
   "metadata": {
    "slideshow": {
     "slide_type": "slide"
    }
   },
   "source": [
    "# Going back to our problem...\n",
    "\n",
    "<img src=\"./images/Lightning_Manila.jpg\" style=\"height: 400px; width:auto\"/>\n",
    "\n",
    "[Photo](https://www.flickr.com/photos/sumarieslabber/33375841246/) by Sumarie Slabber / [CC BY-ND 2.0](https://creativecommons.org/licenses/by-nd/2.0/)"
   ]
  },
  {
   "cell_type": "markdown",
   "metadata": {
    "slideshow": {
     "slide_type": "subslide"
    }
   },
   "source": [
    "We left it here, with our logging calls _everywhere_."
   ]
  },
  {
   "cell_type": "code",
   "execution_count": 59,
   "metadata": {
    "collapsed": true
   },
   "outputs": [],
   "source": [
    "import time\n",
    "import logging\n",
    "logging.basicConfig(format='%(asctime)s %(message)s', level=logging.DEBUG)\n",
    "\n",
    "class Cyborg(object):\n",
    "\n",
    "    def __init__(self, name):\n",
    "        logging.info(\"Creating new Cyborg with name '%s'\", name)\n",
    "        self.name = name\n",
    "        self.weapon = DeathRay(ammunition=25)\n",
    "        self.teleporter = TimeMachine()\n",
    "        self.alive = True\n",
    "\n",
    "    def travel(self, destination, year):\n",
    "        logging.info(\"Travelling to %s and year %s\", destination, year)\n",
    "        self.teleporter.go(destination, year)\n",
    "        time.sleep(0.25)  # not instant, but almost\n",
    "\n",
    "    def attack(self, target):\n",
    "        logging.info(\"Attacking %s\", target)\n",
    "        self.weapon.vaporize(target)"
   ]
  },
  {
   "cell_type": "markdown",
   "metadata": {
    "slideshow": {
     "slide_type": "subslide"
    }
   },
   "source": [
    "# Attempt 3: Method decorators"
   ]
  },
  {
   "cell_type": "code",
   "execution_count": 60,
   "metadata": {
    "scrolled": true
   },
   "outputs": [
    {
     "name": "stderr",
     "output_type": "stream",
     "text": [
      "2017-09-23 13:07:36,207 Called cube, args=(2,)\n"
     ]
    },
    {
     "name": "stdout",
     "output_type": "stream",
     "text": [
      "8\n"
     ]
    }
   ],
   "source": [
    "import functools\n",
    "\n",
    "def log(func):\n",
    "    @functools.wraps(func)\n",
    "    def wrapped(*args):  # omit **kwargs for simplicity\n",
    "        logging.info('Called %s, args=%s', func.__name__, args)\n",
    "        return func(*args)\n",
    "    return wrapped\n",
    "\n",
    "@log\n",
    "def cube(n):\n",
    "    \"\"\"Return the third power of 'n'.\"\"\"\n",
    "    return n ** 3\n",
    "\n",
    "print(cube(2))"
   ]
  },
  {
   "cell_type": "markdown",
   "metadata": {
    "slideshow": {
     "slide_type": "subslide"
    }
   },
   "source": [
    "So going back to our `Cyborg` class..."
   ]
  },
  {
   "cell_type": "code",
   "execution_count": 61,
   "metadata": {
    "collapsed": true,
    "scrolled": true
   },
   "outputs": [],
   "source": [
    "import time\n",
    "import logging\n",
    "\n",
    "def log(func):\n",
    "    @functools.wraps(func)\n",
    "    def wrapped(*args):  # omit **kwargs for simplicity\n",
    "        # args[1:] so that we don't print 'self'\n",
    "        logging.info('Called %s%s', func.__name__, args[1:])\n",
    "        return func(*args)\n",
    "    return wrapped\n",
    "\n",
    "\n",
    "class Cyborg(object):\n",
    "    \n",
    "    @log\n",
    "    def __init__(self, name):\n",
    "        self.name = name\n",
    "        self.weapon = DeathRay(ammunition=25)\n",
    "        self.teleporter = TimeMachine()\n",
    "\n",
    "    @log\n",
    "    def travel(self, destination, year):\n",
    "        self.teleporter.go(destination, year)\n",
    "        time.sleep(0.25)  # not instant, but almost\n",
    "\n",
    "    @log\n",
    "    def attack(self, target):\n",
    "        self.weapon.vaporize(target)"
   ]
  },
  {
   "cell_type": "code",
   "execution_count": 62,
   "metadata": {
    "slideshow": {
     "slide_type": "subslide"
    }
   },
   "outputs": [
    {
     "name": "stderr",
     "output_type": "stream",
     "text": [
      "2017-09-23 13:07:36,286 Called __init__('T-1000',)\n",
      "2017-09-23 13:07:36,287 Called travel('Los Angeles', 1995)\n",
      "2017-09-23 13:07:36,538 Called attack('Sarah Connor',)\n",
      "2017-09-23 13:07:36,539 Called attack('John Connor',)\n"
     ]
    }
   ],
   "source": [
    "robot = Cyborg('T-1000')\n",
    "robot.travel('Los Angeles', 1995)\n",
    "robot.attack('Sarah Connor')\n",
    "robot.attack('John Connor')"
   ]
  },
  {
   "cell_type": "markdown",
   "metadata": {
    "slideshow": {
     "slide_type": "subslide"
    }
   },
   "source": [
    "# This didn't solve the problem, though\n",
    "\n",
    "- We have replaced calls to `logging.info()` with calls to `@log`.\n",
    "- Whoever adds a new method in the future might forget to _decorate_ it.\n",
    "- We still could have three _hundred_ methods instead of three.\n",
    "- Also, copy-pasting method decorations is still boring."
   ]
  },
  {
   "cell_type": "markdown",
   "metadata": {
    "slideshow": {
     "slide_type": "subslide"
    }
   },
   "source": [
    "# Attempt 4: Class decorators\n",
    "\n",
    "Let a second decorator do the work for us $\\rightarrow$ decorate all the methods.\n",
    "\n"
   ]
  },
  {
   "cell_type": "code",
   "execution_count": 63,
   "metadata": {
    "collapsed": true
   },
   "outputs": [],
   "source": [
    "def decorate_all_methods(decorator):\n",
    "    def wrapped(cls):\n",
    "        for attr_name in cls.__dict__:\n",
    "            attr = getattr(cls, attr_name)\n",
    "            if callable(attr):\n",
    "                # It's a function, decorate it\n",
    "                setattr(cls, attr_name, decorator(attr))\n",
    "        return cls\n",
    "    return wrapped"
   ]
  },
  {
   "cell_type": "code",
   "execution_count": 64,
   "metadata": {
    "collapsed": true,
    "slideshow": {
     "slide_type": "subslide"
    }
   },
   "outputs": [],
   "source": [
    "@decorate_all_methods(log)\n",
    "class Cyborg(object):\n",
    "\n",
    "    def __init__(self, name):\n",
    "        self.name = name\n",
    "        self.weapon = DeathRay(ammunition=25)\n",
    "        self.teleporter = TimeMachine()\n",
    "\n",
    "    def travel(self, destination, year):\n",
    "        self.teleporter.go(destination, year)\n",
    "        time.sleep(0.25)  # not instant, but almost\n",
    "\n",
    "    def attack(self, target):\n",
    "        self.weapon.vaporize(target)"
   ]
  },
  {
   "cell_type": "code",
   "execution_count": 65,
   "metadata": {
    "slideshow": {
     "slide_type": "subslide"
    }
   },
   "outputs": [
    {
     "name": "stderr",
     "output_type": "stream",
     "text": [
      "2017-09-23 13:07:36,619 Called __init__('T-1000',)\n",
      "2017-09-23 13:07:36,621 Called travel('Los Angeles', 1995)\n",
      "2017-09-23 13:07:36,874 Called attack('Sarah Connor',)\n",
      "2017-09-23 13:07:36,875 Called attack('John Connor',)\n"
     ]
    }
   ],
   "source": [
    "robot = Cyborg('T-1000')\n",
    "robot.travel('Los Angeles', 1995)\n",
    "robot.attack('Sarah Connor')\n",
    "robot.attack('John Connor')"
   ]
  },
  {
   "cell_type": "markdown",
   "metadata": {
    "slideshow": {
     "slide_type": "subslide"
    }
   },
   "source": [
    "# We did it! Hoo-ray!"
   ]
  },
  {
   "cell_type": "code",
   "execution_count": 66,
   "metadata": {
    "collapsed": true
   },
   "outputs": [],
   "source": [
    "@decorate_all_methods(log)\n",
    "class Cyborg(object):\n",
    "\n",
    "    def __init__(self, name):\n",
    "        self.name = name\n",
    "        self.weapon = DeathRay(ammunition=25)\n",
    "        self.teleporter = TimeMachine()\n",
    "\n",
    "    def travel(self, destination, year):\n",
    "        self.teleporter.go(destination, year)\n",
    "        time.sleep(0.25)  # not instant, but almost\n",
    "\n",
    "    def attack(self, target):\n",
    "        self.weapon.vaporize(target)"
   ]
  },
  {
   "cell_type": "markdown",
   "metadata": {
    "slideshow": {
     "slide_type": "subslide"
    }
   },
   "source": [
    "# We _didn't_ solve the problem, though\n",
    "\n",
    "- We just moved one level up the ladder of abstraction.\n",
    "- We have replaced decorating methods with decorating _classes_.\n",
    "- Whoever adds a new _class_ in the future might forget to _decorate_ it.\n",
    "- What if we had one _hundred_ classes instead of just one?"
   ]
  },
  {
   "cell_type": "code",
   "execution_count": 67,
   "metadata": {
    "collapsed": true
   },
   "outputs": [],
   "source": [
    "@decorate_all_methods(log)\n",
    "class Ninja(object): pass\n",
    "    # ...\n",
    "\n",
    "@decorate_all_methods(log)\n",
    "class Human(object): pass\n",
    "    # ...\n",
    "\n",
    "@decorate_all_methods(log)\n",
    "class Terminator(object): pass\n",
    "    # ...  "
   ]
  },
  {
   "cell_type": "markdown",
   "metadata": {
    "slideshow": {
     "slide_type": "subslide"
    }
   },
   "source": [
    "# Nested classes\n",
    "\n",
    "Another limitation is that out decorator will also decorate _nested_ classes, even if that's not what we want."
   ]
  },
  {
   "cell_type": "code",
   "execution_count": 68,
   "metadata": {},
   "outputs": [
    {
     "name": "stderr",
     "output_type": "stream",
     "text": [
      "2017-09-23 13:07:36,992 Called __init__('T-1000',)\n",
      "2017-09-23 13:07:36,993 Called Chainsaw()\n",
      "2017-09-23 13:07:36,994 Called attack('Sarah Connor',)\n"
     ]
    }
   ],
   "source": [
    "@decorate_all_methods(log)\n",
    "class Cyborg(object):\n",
    "\n",
    "    # This class was also decorated.\n",
    "    class Chainsaw(object):\n",
    "        \n",
    "        def vaporize(self, victim): pass\n",
    "            # ...            \n",
    "    \n",
    "    def __init__(self, name):\n",
    "        self.name = name\n",
    "        self.weapon = Cyborg.Chainsaw()\n",
    "\n",
    "    def attack(self, target):\n",
    "        self.weapon.vaporize(target)\n",
    "\n",
    "robot = Cyborg('T-1000')\n",
    "robot.attack('Sarah Connor')"
   ]
  },
  {
   "cell_type": "markdown",
   "metadata": {
    "slideshow": {
     "slide_type": "subslide"
    }
   },
   "source": [
    "# There are more limitations\n",
    "\n",
    "For example, if we want to be able to add _classes_:"
   ]
  },
  {
   "cell_type": "code",
   "execution_count": 69,
   "metadata": {},
   "outputs": [
    {
     "ename": "NameError",
     "evalue": "name 'Robot' is not defined",
     "output_type": "error",
     "traceback": [
      "\u001b[0;31m---------------------------------------------------------------------------\u001b[0m",
      "\u001b[0;31mNameError\u001b[0m                                 Traceback (most recent call last)",
      "\u001b[0;32m<ipython-input-69-8bf8b21a0a9a>\u001b[0m in \u001b[0;36m<module>\u001b[0;34m()\u001b[0m\n\u001b[0;32m----> 1\u001b[0;31m \u001b[0mAndroid\u001b[0m \u001b[0;34m=\u001b[0m \u001b[0mHuman\u001b[0m \u001b[0;34m+\u001b[0m \u001b[0mRobot\u001b[0m  \u001b[0;31m# get new class and use it\u001b[0m\u001b[0;34m\u001b[0m\u001b[0m\n\u001b[0m\u001b[1;32m      2\u001b[0m \u001b[0mreplicant\u001b[0m \u001b[0;34m=\u001b[0m \u001b[0mAndroid\u001b[0m\u001b[0;34m(\u001b[0m\u001b[0;34m'Roy Batty'\u001b[0m\u001b[0;34m)\u001b[0m\u001b[0;34m\u001b[0m\u001b[0m\n",
      "\u001b[0;31mNameError\u001b[0m: name 'Robot' is not defined"
     ]
    }
   ],
   "source": [
    "Android = Human + Robot  # get new class and use it\n",
    "replicant = Android('Roy Batty')"
   ]
  },
  {
   "cell_type": "markdown",
   "metadata": {},
   "source": [
    "### Recommended readings:\n",
    "\n",
    "* [Python metaclasses vs class decorators](https://stackoverflow.com/a/1779404) on Stack Overflow.\n",
    "* [What are Python metaclasses useful for?](https://stackoverflow.com/a/1779404) also by Alex Martelli."
   ]
  },
  {
   "cell_type": "markdown",
   "metadata": {
    "slideshow": {
     "slide_type": "subslide"
    }
   },
   "source": [
    "There're things that simply _cannot_ be done with class decorators."
   ]
  },
  {
   "cell_type": "markdown",
   "metadata": {
    "slideshow": {
     "slide_type": "fragment"
    }
   },
   "source": [
    "But _metaclasses_ can."
   ]
  },
  {
   "cell_type": "markdown",
   "metadata": {
    "collapsed": true,
    "slideshow": {
     "slide_type": "slide"
    }
   },
   "source": [
    "# Help me, Obi-Wan Kenobi. You're my only hope\n",
    "\n",
    "<img src=\"./images/Lightning_Storm.jpg\" style=\"height: 400px; width:auto\"/>\n",
    "\n",
    "[Photo](https://www.flickr.com/photos/texaus1/33124985460/) by texaus1 / [CC BY 2.0](https://creativecommons.org/licenses/by/2.0/)"
   ]
  },
  {
   "cell_type": "markdown",
   "metadata": {
    "slideshow": {
     "slide_type": "subslide"
    }
   },
   "source": [
    "# Classes and instances\n",
    "\n",
    "* Every object is the instance of a class.\n",
    "* We can check this with the built-in [`type()`](https://docs.python.org/3/library/functions.html#type)."
   ]
  },
  {
   "cell_type": "code",
   "execution_count": 70,
   "metadata": {},
   "outputs": [
    {
     "name": "stdout",
     "output_type": "stream",
     "text": [
      "<class 'int'>\n",
      "<class 'str'>\n"
     ]
    }
   ],
   "source": [
    "number = 21\n",
    "word = \"blue\"\n",
    "\n",
    "print(type(number))\n",
    "print(type(word))"
   ]
  },
  {
   "cell_type": "markdown",
   "metadata": {
    "slideshow": {
     "slide_type": "subslide"
    }
   },
   "source": [
    "Let's check our own class too:"
   ]
  },
  {
   "cell_type": "code",
   "execution_count": 73,
   "metadata": {},
   "outputs": [
    {
     "name": "stdout",
     "output_type": "stream",
     "text": [
      "<class '__main__.Cyborg'>\n"
     ]
    }
   ],
   "source": [
    "class Cyborg(object):\n",
    "\n",
    "    def __init__(self, name):\n",
    "        self.name = name\n",
    "        self.weapon = DeathRay(ammunition=25)\n",
    "        self.teleporter = TimeMachine()\n",
    "\n",
    "    def travel(self, destination, year):\n",
    "        self.teleporter.go(destination, year)\n",
    "        time.sleep(0.25)  # not instant, but almost\n",
    "\n",
    "    def attack(self, target):\n",
    "        self.weapon.vaporize(target)\n",
    "\n",
    "arnold = Cyborg(\"T-800\")\n",
    "print(type(arnold))"
   ]
  },
  {
   "cell_type": "markdown",
   "metadata": {
    "slideshow": {
     "slide_type": "subslide"
    }
   },
   "source": [
    "# Wait, but...\n",
    "\n",
    "* (1) _Every_ object is an instance of a class.\n",
    "* (2) We said that classes are _objects_ too.\n",
    "* From (1) and (2) it follows that classes are instances of... what?"
   ]
  },
  {
   "cell_type": "code",
   "execution_count": 74,
   "metadata": {},
   "outputs": [
    {
     "name": "stdout",
     "output_type": "stream",
     "text": [
      "<class 'type'>\n",
      "<class 'type'>\n",
      "<class 'type'>\n"
     ]
    }
   ],
   "source": [
    "print(type(int))\n",
    "print(type(str))\n",
    "print(type(Cyborg))"
   ]
  },
  {
   "cell_type": "markdown",
   "metadata": {},
   "source": [
    "So all classes are instances of class `type`."
   ]
  },
  {
   "cell_type": "markdown",
   "metadata": {
    "slideshow": {
     "slide_type": "subslide"
    }
   },
   "source": [
    "# Down the rabbit hole\n",
    "\n",
    "And `type` is an instance of..."
   ]
  },
  {
   "cell_type": "code",
   "execution_count": 75,
   "metadata": {},
   "outputs": [
    {
     "name": "stdout",
     "output_type": "stream",
     "text": [
      "<class 'type'>\n"
     ]
    }
   ],
   "source": [
    "print(type(type))"
   ]
  },
  {
   "cell_type": "markdown",
   "metadata": {},
   "source": [
    "Everything is an instance of `type`, including _itself_."
   ]
  },
  {
   "cell_type": "markdown",
   "metadata": {
    "slideshow": {
     "slide_type": "subslide"
    }
   },
   "source": [
    "# The Most Important Slide\n",
    "\n",
    "If you're going to remember only one thing, it should be this:\n",
    "\n",
    "> Instances of a class are to **classes** what classes are to **metaclasses**.\n",
    "\n",
    "<img src=\"./images/instance-of.png\" style=\"height: 400px; width:auto\"/>\n",
    "\n",
    "* In the same way a class defines the creation and behaviour of an instance of that class...\n",
    "* ... metaclasses allow us to define the creation and behaviour of our **classes**."
   ]
  },
  {
   "cell_type": "markdown",
   "metadata": {
    "slideshow": {
     "slide_type": "subslide"
    }
   },
   "source": [
    "# `type()` to define new classes\n",
    "\n",
    "As we just saw, the built-in [`type()`](https://docs.python.org/3/library/functions.html#type) returns the type on an object."
   ]
  },
  {
   "cell_type": "code",
   "execution_count": 76,
   "metadata": {},
   "outputs": [
    {
     "name": "stdout",
     "output_type": "stream",
     "text": [
      "<class 'list'>\n"
     ]
    }
   ],
   "source": [
    "numbers = [1, 2, 3]\n",
    "print(type(numbers))"
   ]
  },
  {
   "cell_type": "markdown",
   "metadata": {
    "slideshow": {
     "slide_type": "subslide"
    }
   },
   "source": [
    "However, it can also be called with _three_ arguments to return a **new type** object. [From the docs](https://docs.python.org/3/library/functions.html#type):\n",
    "\n",
    "> With three arguments, return a new type object. This is essentially a dynamic form of the [`class`](https://docs.python.org/3/reference/compound_stmts.html#class) statement. The *name* string is the class name and becomes the [`__name__`](https://docs.python.org/3/library/stdtypes.html#definition.__name__) attribute; the *bases* tuple itemizes the base classes and becomes the [`__bases__`](https://docs.python.org/3/library/stdtypes.html#class.__bases__) attribute; and the *dict* dictionary is the namespace containing definitions for class body and is copied to a standard dictionary to become the [`__dict__`](https://docs.python.org/3/library/stdtypes.html#object.__dict__) attribute. For example, the following two statements create identical [`type`](https://docs.python.org/3/library/functions.html#type) objects:\n"
   ]
  },
  {
   "cell_type": "code",
   "execution_count": 77,
   "metadata": {
    "collapsed": true,
    "slideshow": {
     "slide_type": "-"
    }
   },
   "outputs": [],
   "source": [
    "class X(object):\n",
    "    a = 1\n",
    "    \n",
    "# The above class is identical to:\n",
    "X = type('X', (object,), dict(a=1))"
   ]
  },
  {
   "cell_type": "markdown",
   "metadata": {
    "slideshow": {
     "slide_type": "subslide"
    }
   },
   "source": [
    "# Another example"
   ]
  },
  {
   "cell_type": "code",
   "execution_count": 78,
   "metadata": {},
   "outputs": [
    {
     "name": "stdout",
     "output_type": "stream",
     "text": [
      "Destroy all humans!\n"
     ]
    }
   ],
   "source": [
    "name = \"Cylon\"\n",
    "base = (object,)\n",
    "\n",
    "# We need 'self', of course.\n",
    "def attack(self, victims):\n",
    "    print(\"Destroy all {}!\".format(victims))\n",
    "\n",
    "body = {'attack': attack}\n",
    "    \n",
    "Cylon = type(name, base, body)\n",
    "centurion = Cylon()\n",
    "centurion.attack(\"humans\")"
   ]
  },
  {
   "cell_type": "markdown",
   "metadata": {
    "slideshow": {
     "slide_type": "subslide"
    }
   },
   "source": [
    "# How is this useful?\n",
    "\n",
    "What's the purpose of creating classes dynamically with `type()`?\n",
    "\n",
    "* We definitely don't need them _often_.\n",
    "* However, _sometimes_ is the appropriate solution.\n",
    "* For example, for GUI programming it's very convenient to define classes on the fly and instantiate widgets with them."
   ]
  },
  {
   "cell_type": "markdown",
   "metadata": {
    "slideshow": {
     "slide_type": "subslide"
    }
   },
   "source": [
    "## A real-life example: [SQLAlchemy](https://www.sqlalchemy.org/)\n",
    "\n",
    "> There is only one way to register a database table with SQLAlchemy: create a `Model` class describing the table (not unlike Django's models). To get SQLAlchemy to recognize a table, a class for that table must be created in some way. Since `sandman` doesn't have any advanced knowledge of the database structure, it can't rely on pre-made model classes to register tables. Rather, it needs to introspect the database and create these classes on the fly. Sound familiar? **Any time you're creating new classes dynamically, `type` is the correct/only choice**.\n",
    "\n",
    "[Improve Your Python: Metaclasses and Dynamic Classes With Type](https://jeffknupp.com/blog/2013/12/28/improve-your-python-metaclasses-and-dynamic-classes-with-type/), by Jeff Knupp."
   ]
  },
  {
   "cell_type": "markdown",
   "metadata": {
    "slideshow": {
     "slide_type": "slide"
    }
   },
   "source": [
    "# Metaclasses — finally!\n",
    "\n",
    "It took us a while, but we're finally here.\n",
    "\n",
    "<img src=\"./images/Lightning_Cagliari.jpg\" style=\"height: 400px; width:auto\"/>\n",
    "\n",
    "[Photo](https://www.flickr.com/photos/berlinrider/14878240502/) by Chris / [CC BY 2.0](https://creativecommons.org/licenses/by/2.0/)"
   ]
  },
  {
   "cell_type": "markdown",
   "metadata": {
    "slideshow": {
     "slide_type": "subslide"
    }
   },
   "source": [
    "# The silliest metaclass ever"
   ]
  },
  {
   "cell_type": "code",
   "execution_count": 79,
   "metadata": {
    "slideshow": {
     "slide_type": "-"
    }
   },
   "outputs": [
    {
     "name": "stdout",
     "output_type": "stream",
     "text": [
      "42\n"
     ]
    }
   ],
   "source": [
    "class Meta42(type):\n",
    "    \n",
    "    def __new__(meta, name, bases, kwargs):\n",
    "        return 42\n",
    "\n",
    "class Cyborg42(metaclass=Meta42):\n",
    "    pass\n",
    "\n",
    "print(Cyborg42)"
   ]
  },
  {
   "cell_type": "markdown",
   "metadata": {
    "slideshow": {
     "slide_type": "-"
    }
   },
   "source": [
    "Woahhhh! What happened here? As you can see, the '__new__' method of the metaclass is in charge of creating the class itself. In this example we simply return a number, which is totally allowed even if the number is not itself a class. Python trusts us — it should't."
   ]
  },
  {
   "cell_type": "markdown",
   "metadata": {
    "slideshow": {
     "slide_type": "subslide"
    }
   },
   "source": [
    "# The yolooo metaclass\n"
   ]
  },
  {
   "cell_type": "code",
   "execution_count": 82,
   "metadata": {},
   "outputs": [],
   "source": [
    "def make_yoloooo(func):\n",
    "    \n",
    "    def wrapper(*args,**kwargs):\n",
    "        try:\n",
    "            return func(*args,**kwargs)\n",
    "        except Exception as ex:\n",
    "            print(\"{} supressed\".format(ex.__class__.__name__))\n",
    "    return wrapper\n",
    "\n",
    "\n",
    "class MetaYoloooo(type):\n",
    "    \n",
    "    def __new__(meta, base, names, kwargs):\n",
    "        for name,attr in kwargs.items():\n",
    "            if callable(attr):\n",
    "                kwargs[name] = make_yoloooo(attr)\n",
    "        return super().__new__(meta,base,names,kwargs)"
   ]
  },
  {
   "cell_type": "markdown",
   "metadata": {},
   "source": [
    "In this example, we are creating a decorator that will supress all exceptions raised in the decorated function. To make it work we only need to create a metaclass that automatically decorates all methods inside a class. "
   ]
  },
  {
   "cell_type": "markdown",
   "metadata": {
    "slideshow": {
     "slide_type": "subslide"
    }
   },
   "source": [
    "At this point we only need to use our new metaclass like this:"
   ]
  },
  {
   "cell_type": "code",
   "execution_count": 86,
   "metadata": {
    "slideshow": {
     "slide_type": "-"
    }
   },
   "outputs": [
    {
     "name": "stdout",
     "output_type": "stream",
     "text": [
      "ValueError supressed\n",
      "ZeroDivisionError supressed\n",
      "RuntimeError supressed\n",
      "RuntimeError supressed\n"
     ]
    }
   ],
   "source": [
    "class DefectiveCyborg(object, metaclass=MetaYoloooo):\n",
    "\n",
    "    def __init__(self, name):\n",
    "        raise ValueError\n",
    "\n",
    "    def travel(self, destination, year):\n",
    "        raise ZeroDivisionError\n",
    "\n",
    "    def attack(self, target):\n",
    "        raise RuntimeError\n",
    "\n",
    "robot = DefectiveCyborg('T-1000')\n",
    "robot.travel('Los Angeles', 1995)\n",
    "robot.attack('Sarah Connor')\n",
    "robot.attack('John Connor')"
   ]
  },
  {
   "cell_type": "markdown",
   "metadata": {
    "slideshow": {
     "slide_type": "subslide"
    }
   },
   "source": [
    "# The registering metaclass\n"
   ]
  },
  {
   "cell_type": "markdown",
   "metadata": {},
   "source": [
    "Now for some real_life™ examples. If we are designing some library that allows the user to declare its own classes based on the ones we provide (imagine for example Django, SQLAlchemy, Luigy, Ansible, ...etc) and we want to perform some kind of operations based on the classes that the user has defined along with some of our own design. It would be very handy if we can have automatically a registry of all the clases that have been declared using the ones we provide. This is very easy with metaclasses:"
   ]
  },
  {
   "cell_type": "code",
   "execution_count": 88,
   "metadata": {},
   "outputs": [],
   "source": [
    "import types\n",
    "\n",
    "class MetaRegister(type):\n",
    "\n",
    "    _registry = dict()\n",
    "\n",
    "    def __new__(meta, name, bases, kwargs):\n",
    "        kwargs[\"_registry\"] = types.MappingProxyType(meta._registry)\n",
    "        cls = super().__new__(meta,name,bases,kwargs)\n",
    "        meta._registry[name] = cls\n",
    "        return cls"
   ]
  },
  {
   "cell_type": "markdown",
   "metadata": {
    "slideshow": {
     "slide_type": "subslide"
    }
   },
   "source": [
    "We can now define the base class our library will provide:"
   ]
  },
  {
   "cell_type": "code",
   "execution_count": null,
   "metadata": {
    "collapsed": true,
    "slideshow": {
     "slide_type": "-"
    }
   },
   "outputs": [],
   "source": [
    "class Cyborg(object, metaclass=MetaRegister):\n",
    "    pass"
   ]
  },
  {
   "cell_type": "markdown",
   "metadata": {
    "slideshow": {
     "slide_type": "subslide"
    }
   },
   "source": [
    "The user of our library will declare some classes based on this last one:"
   ]
  },
  {
   "cell_type": "code",
   "execution_count": null,
   "metadata": {
    "collapsed": true
   },
   "outputs": [],
   "source": [
    "class Terminator(Cyborg):\n",
    "    pass\n",
    "\n",
    "class Ninja(object):\n",
    "    pass\n",
    "\n",
    "class CyborgNinja(Cyborg, Ninja):\n",
    "    pass"
   ]
  },
  {
   "cell_type": "markdown",
   "metadata": {
    "slideshow": {
     "slide_type": "subslide"
    }
   },
   "source": [
    "Now we have all the clases available as a read-only attribute inside every class and as a read-write attribute inside the metaclass:"
   ]
  },
  {
   "cell_type": "code",
   "execution_count": null,
   "metadata": {
    "collapsed": true
   },
   "outputs": [],
   "source": [
    "print(MetaRegister._registry) \n",
    "print(CyborgNinja._registry)"
   ]
  },
  {
   "cell_type": "markdown",
   "metadata": {
    "slideshow": {
     "slide_type": "subslide"
    }
   },
   "source": [
    "Note that we can only modify the metaclass registry as the ones inside the regular classes are read-only:"
   ]
  },
  {
   "cell_type": "code",
   "execution_count": null,
   "metadata": {
    "collapsed": true,
    "slideshow": {
     "slide_type": "-"
    }
   },
   "outputs": [],
   "source": [
    "# We can edit MetaRegister._registry:\n",
    "MetaRegister._registry[\"tuple\"] = tuple\n",
    "# But now CyborgNinja._registry:\n",
    "CyborgNinja._registry[\"list\"] = list"
   ]
  },
  {
   "cell_type": "markdown",
   "metadata": {
    "slideshow": {
     "slide_type": "subslide"
    }
   },
   "source": [
    "# The type enforcing metaclass\n"
   ]
  },
  {
   "cell_type": "markdown",
   "metadata": {},
   "source": [
    "Let's play a bit with some dark magic. We can start declaring the following descriptor that checks if the value assigned to it is positive:"
   ]
  },
  {
   "cell_type": "code",
   "execution_count": null,
   "metadata": {
    "collapsed": true
   },
   "outputs": [],
   "source": [
    "class Positive:\n",
    "    def __set_name__(self,owner,name):\n",
    "        self.name = name\n",
    "    def __get__(self,instance,owner):\n",
    "        return instance.__dict__[self.name]\n",
    "    def __set__(self,instance, value):\n",
    "        if value > 0:\n",
    "            instance.__dict__[self.name] = value\n",
    "        else:\n",
    "            raise ValueError(\"The value is not positive\")"
   ]
  },
  {
   "cell_type": "markdown",
   "metadata": {
    "slideshow": {
     "slide_type": "subslide"
    }
   },
   "source": [
    "We can use this descriptor in the usual way:"
   ]
  },
  {
   "cell_type": "code",
   "execution_count": null,
   "metadata": {
    "collapsed": true
   },
   "outputs": [],
   "source": [
    "class Wallet(object):\n",
    "    money  = Positive()\n",
    "\n",
    "my_wallet = Wallet()\n",
    "my_wallet.money = 5\n",
    "print(my_wallet.money)\n",
    "my_wallet.money = -5"
   ]
  },
  {
   "cell_type": "markdown",
   "metadata": {
    "slideshow": {
     "slide_type": "subslide"
    }
   },
   "source": [
    "Python 3 has this awesome feature called \"type annotations\" that allows us to indicate some typing information about the variables, methods, classes and functions. This is usually not enforced, but we can play a bit with that. Let's define the following metaclass:"
   ]
  },
  {
   "cell_type": "code",
   "execution_count": null,
   "metadata": {
    "collapsed": true
   },
   "outputs": [],
   "source": [
    "import collections\n",
    "class MetaAnnotations(type):\n",
    "    @classmethod\n",
    "    def __prepare__(metacls, name, base, **kwargs):\n",
    "        return collections.ChainMap({},{\"enforce_positive\":Positive})\n",
    "\n",
    "    def __new__(meta,name,bases,kwargs):\n",
    "        return super().__new__(meta,name,bases,kwargs.maps[0])\n",
    "\n",
    "    def __init__(cls,name,bases,kwargs):\n",
    "        for name,val in getattr(cls,\"__annotations__\",{}).items():\n",
    "            desc = val()\n",
    "            desc.__set_name__(cls,name)\n",
    "            setattr(cls,name,desc)"
   ]
  },
  {
   "cell_type": "markdown",
   "metadata": {},
   "source": [
    "We can now define our wallet again with type annotations:"
   ]
  },
  {
   "cell_type": "code",
   "execution_count": null,
   "metadata": {
    "collapsed": true
   },
   "outputs": [],
   "source": [
    "class Wallet(object,metaclass=MetaAnnotations):\n",
    "    money  : enforce_positive\n",
    "\n",
    "my_wallet = Wallet()\n",
    "my_wallet.money = 5"
   ]
  },
  {
   "cell_type": "code",
   "execution_count": null,
   "metadata": {
    "collapsed": true,
    "slideshow": {
     "slide_type": "subslide"
    }
   },
   "outputs": [],
   "source": [
    "print(my_wallet.money)\n",
    "my_wallet.money = -5"
   ]
  },
  {
   "cell_type": "markdown",
   "metadata": {
    "slideshow": {
     "slide_type": "fragment"
    }
   },
   "source": [
    "Notice that we also achieve something really weird: \"enforce_positive\" is not defined anywere as a variable! Our metaclass is allowing us to use the name 'enforce_positive' as an alias for the 'Positive' without needing to import the name into our scope. Awesome!"
   ]
  },
  {
   "cell_type": "markdown",
   "metadata": {
    "slideshow": {
     "slide_type": "subslide"
    }
   },
   "source": [
    "We can check that using a regular variable in our class definition:"
   ]
  },
  {
   "cell_type": "code",
   "execution_count": null,
   "metadata": {
    "collapsed": true
   },
   "outputs": [],
   "source": [
    "class Wallet(object,metaclass=MetaAnnotations):\n",
    "    money = enforce_positive\n",
    "\n",
    "my_wallet = Wallet()\n",
    "print(my_wallet.money)"
   ]
  },
  {
   "cell_type": "markdown",
   "metadata": {
    "slideshow": {
     "slide_type": "subslide"
    }
   },
   "source": [
    "# Abstract Base Clases"
   ]
  },
  {
   "cell_type": "markdown",
   "metadata": {},
   "source": [
    "Some times is very handy to pay a visit to the old good C++ world and bring some abstract base classes as a souvenir. These are very handy if we want to define interfaces or if we want to enforce some common properties when the users of our library will extend and define their own classes based on the ones we provide. Python make this very easy for us with the 'abc' library:"
   ]
  },
  {
   "cell_type": "code",
   "execution_count": null,
   "metadata": {
    "collapsed": true
   },
   "outputs": [],
   "source": [
    "from abc import ABCMeta, abstractmethod\n",
    "\n",
    "class MetaCyborg(metaclass=ABCMeta):\n",
    "    @abstractmethod\n",
    "    def travel(self, destination, year):\n",
    "        ...\n",
    "\n",
    "    @abstractmethod\n",
    "    def attack(self, target):\n",
    "        ..."
   ]
  },
  {
   "cell_type": "markdown",
   "metadata": {
    "slideshow": {
     "slide_type": "subslide"
    }
   },
   "source": [
    "Once we have defined our abstract base class we can use it like this:"
   ]
  },
  {
   "cell_type": "code",
   "execution_count": null,
   "metadata": {
    "collapsed": true,
    "slideshow": {
     "slide_type": "-"
    }
   },
   "outputs": [],
   "source": [
    "class PrototypeCyborg(MetaCyborg):\n",
    "    def __init__(self, name):\n",
    "        self.name = name\n",
    "\n",
    "    def travel(self, destination, year):\n",
    "        print(\"Traveling really far\")\n",
    "\n",
    "class Cyborg(MetaCyborg):\n",
    "\n",
    "    def __init__(self, name):\n",
    "        self.name = name\n",
    "\n",
    "    def travel(self, destination, year):\n",
    "        print(\"Traveling really far\")\n",
    "\n",
    "    def attack(self,target):\n",
    "        print(\"Atacking really hard\")"
   ]
  },
  {
   "cell_type": "code",
   "execution_count": null,
   "metadata": {
    "collapsed": true,
    "slideshow": {
     "slide_type": "fragment"
    }
   },
   "outputs": [],
   "source": [
    "robot = Cyborg('T-1000')"
   ]
  },
  {
   "cell_type": "code",
   "execution_count": null,
   "metadata": {
    "collapsed": true,
    "slideshow": {
     "slide_type": "fragment"
    }
   },
   "outputs": [],
   "source": [
    "#This doesn't work\n",
    "robot = PrototypeCyborg('T-1000')"
   ]
  },
  {
   "cell_type": "markdown",
   "metadata": {
    "slideshow": {
     "slide_type": "subslide"
    }
   },
   "source": [
    "# No more __init__"
   ]
  },
  {
   "cell_type": "markdown",
   "metadata": {},
   "source": [
    "Tired of writing the same piece of code thousands of times to declare '__init__'and assign the variables inside? Don't worry because we have exactly the stupid idea you need! The 'NoMoreInit' metaclass:"
   ]
  },
  {
   "cell_type": "code",
   "execution_count": null,
   "metadata": {
    "collapsed": true
   },
   "outputs": [],
   "source": [
    "import collections\n",
    "class MetaNoMoreInit(type):\n",
    "    @classmethod\n",
    "    def __prepare__(metacls, name, base, **kwargs):\n",
    "        return collections.OrderedDict()\n",
    "    def __new__(meta,name,bases,kwargs):\n",
    "        if \"__init__\" not in kwargs:\n",
    "            annotations = kwargs[\"__annotations__\"]\n",
    "            def __init__(self,*args,**kwargs):\n",
    "                if args or kwargs.keys() != annotations.keys():\n",
    "                    raise ValueError(\"Incorrect arguments, my lord!\")\n",
    "                self.__dict__.update(kwargs)\n",
    "            kwargs[\"__init__\"] = __init__\n",
    "        return super().__new__(meta,name,bases,kwargs)"
   ]
  },
  {
   "cell_type": "markdown",
   "metadata": {
    "slideshow": {
     "slide_type": "subslide"
    }
   },
   "source": [
    "We can now use type annotations (of course) to declare the variables that our class will define and we will have a '__init__' prepared for us:"
   ]
  },
  {
   "cell_type": "code",
   "execution_count": null,
   "metadata": {
    "collapsed": true,
    "slideshow": {
     "slide_type": "fragment"
    }
   },
   "outputs": [],
   "source": [
    "class Easy(metaclass=MetaNoMoreInit):\n",
    "    x:int\n",
    "    y:float\n",
    "    z:str\n",
    "\n",
    "myobj = Easy(x=1,y=3.4,z=\"Hello\")\n",
    "print(myobj.x)\n",
    "print(myobj.y)\n",
    "print(myobj.z)"
   ]
  },
  {
   "cell_type": "markdown",
   "metadata": {
    "slideshow": {
     "slide_type": "slide"
    }
   },
   "source": [
    "# Back to our problem\n",
    "\n",
    "<img src=\"./images/Lightning_New_York.jpg\" style=\"height: 400px; width:auto\"/>\n",
    "\n",
    "[Photo](https://www.flickr.com/photos/quintanomedia/9334838960/) by Anthony Quintano / [CC BY 2.0](https://creativecommons.org/licenses/by/2.0/)"
   ]
  },
  {
   "cell_type": "markdown",
   "metadata": {
    "slideshow": {
     "slide_type": "subslide"
    }
   },
   "source": [
    "In our pursue for purity and maximum generalization we look back at what we have achieved and we are pleased. But suddenly....something is wrong. Something is still verbose. Something is still......explicit:"
   ]
  },
  {
   "cell_type": "code",
   "execution_count": null,
   "metadata": {
    "collapsed": true
   },
   "outputs": [],
   "source": [
    "# See this line? It's... explicit\n",
    "class HappyCyborg(object,metaclass = MetaRegister): \n",
    "    ..."
   ]
  },
  {
   "cell_type": "markdown",
   "metadata": {},
   "source": [
    "We still need to write `metaclass = MyMetaclass` every time we declare a new base class. We don't need to do that in every child class that inherits from it but we still need to do that with the parents. It wouldn't be great if we had a way to avoid that?"
   ]
  },
  {
   "cell_type": "markdown",
   "metadata": {
    "slideshow": {
     "slide_type": "subslide"
    }
   },
   "source": [
    "# Enter the  `__build_class__` hook"
   ]
  },
  {
   "cell_type": "markdown",
   "metadata": {},
   "source": [
    "Every time python defines a new class, before doing anything else (even before resolving the metaclasses) it executes a function. This function is part of the Cpython interpreter (is written in C) and is in charge of building the class attribute dictionary among other things. We can actually substitute itś behaviour thanks to a hook that the interpreter exposes for us."
   ]
  },
  {
   "cell_type": "code",
   "execution_count": null,
   "metadata": {
    "collapsed": true
   },
   "outputs": [],
   "source": [
    "import builtins\n",
    "print(builtins.__build_class__) # <--- This is the hook"
   ]
  },
  {
   "cell_type": "markdown",
   "metadata": {
    "slideshow": {
     "slide_type": "subslide"
    }
   },
   "source": [
    "We an use this to automatically inject out metaclass in the `metaclass` attribute of every class that is ever defined:"
   ]
  },
  {
   "cell_type": "code",
   "execution_count": null,
   "metadata": {
    "collapsed": true
   },
   "outputs": [],
   "source": [
    "__builtins_build_class = builtins.__build_class__\n",
    "\n",
    "def _create_custom_build(metaclass):\n",
    "    def _custom_build(func, name, *bases, **kwargs):\n",
    "        print([base is not object and isinstance(base, type) for base in bases])\n",
    "        print(bases)\n",
    "        if not any((base is not object and isinstance(base, type) for base in bases)):\n",
    "            if 'metaclass' in kwargs:\n",
    "                pass\n",
    "            else:\n",
    "                kwargs['metaclass'] = metaclass\n",
    "\n",
    "        return __builtins_build_class(func, name, *bases, **kwargs)\n",
    "    return _custom_build\n"
   ]
  },
  {
   "cell_type": "markdown",
   "metadata": {
    "slideshow": {
     "slide_type": "subslide"
    }
   },
   "source": [
    "To use it we can substitute the original `__build_class__`:"
   ]
  },
  {
   "cell_type": "code",
   "execution_count": null,
   "metadata": {
    "collapsed": true
   },
   "outputs": [],
   "source": [
    "builtins.__build_class__ = _create_custom_build(lambda *a,**k:42)\n",
    "\n",
    "class A(object):\n",
    "    pass\n",
    "\n",
    "class AHappyAndNormalClass(A):\n",
    "    pass\n",
    "\n",
    "print(AHappyAndNormalClass)"
   ]
  },
  {
   "cell_type": "markdown",
   "metadata": {
    "slideshow": {
     "slide_type": "fragment"
    }
   },
   "source": [
    "We can return everything to normal reasigning the old `__build_class__` back."
   ]
  },
  {
   "cell_type": "code",
   "execution_count": null,
   "metadata": {
    "collapsed": true
   },
   "outputs": [],
   "source": [
    "builtins.__build_class__ = __builtins_build_class"
   ]
  },
  {
   "cell_type": "markdown",
   "metadata": {
    "slideshow": {
     "slide_type": "subslide"
    }
   },
   "source": [
    "# A last crazy idea"
   ]
  },
  {
   "cell_type": "markdown",
   "metadata": {},
   "source": [
    "We are happy, we are fulfilled. Everything is now stupidly implicit and that makes us great programmers. But after a while we notice something....something that is wrong. **We still need to write out hook in every program we write!**. That makes us sad. It wouldn't be great if we had a way to avoid that? "
   ]
  },
  {
   "cell_type": "markdown",
   "metadata": {
    "slideshow": {
     "slide_type": "subslide"
    }
   },
   "source": [
    "# Enter the  `*.pth` files"
   ]
  },
  {
   "cell_type": "markdown",
   "metadata": {},
   "source": [
    "Python has this thing called `*.pth` files. The deal with them is the following: if python finds a .pth file when in `lib/pythonX.Y/site-packages` that starts with `import` it will **EXECUTE** the file. \n",
    "\n",
    ">A path configuration file is a file whose name has the form name.pth and exists in one of the four directories mentioned above; its contents are additional items (one per line) to be added to sys.path. Non-existing items are never added to sys.path, and no check is made that the item refers to a directory rather than a file. No item is added to sys.path more than once. Blank lines and lines beginning with # are skipped. Lines starting with import (followed by space or tab) are executed.\n",
    "\n",
    "\n",
    "\n",
    "So we can create a `*.pth` file that performs the same operations as our `__build_class__` hook and it will be automatically executed every time we initialize the interpreter. "
   ]
  },
  {
   "cell_type": "markdown",
   "metadata": {
    "slideshow": {
     "slide_type": "subslide"
    }
   },
   "source": [
    "❯ pip -V\n",
    "pip 9.0.1 from /usr/lib/python3.6/site-packages (python 3.6)"
   ]
  },
  {
   "cell_type": "markdown",
   "metadata": {
    "slideshow": {
     "slide_type": "subslide"
    }
   },
   "source": [
    "❯ cat /usr/lib/python3.6/site-packages/metathing.pth\n",
    "```python\n",
    "import metathing\n",
    "```"
   ]
  },
  {
   "cell_type": "markdown",
   "metadata": {
    "slideshow": {
     "slide_type": "subslide"
    }
   },
   "source": [
    "❯ cat /usr/lib/python3.6/site-packages/metathing.py\n",
    "\n",
    "```python\n",
    "class Meta42(type):\n",
    "    def __new__(meta,name,bases,kwargs):\n",
    "        return 42\n",
    "        \n",
    "__builtins_build_class = builtins.__build_class__\n",
    "\n",
    "def _create_custom_build(metaclass):\n",
    "    def _custom_build(func, name, *bases, **kwargs):\n",
    "        if not any((base is not object and isinstance(base, type) for base in bases)):\n",
    "            if 'metaclass' in kwargs:\n",
    "                pass\n",
    "            else:\n",
    "                kwargs['metaclass'] = metaclass\n",
    "\n",
    "        return __builtins_build_class(func, name, *bases, **kwargs)\n",
    "    return _custom_build\n",
    "builtins.__build_class__ = _create_custom_build(Meta42)\n",
    "\n",
    "```"
   ]
  },
  {
   "cell_type": "markdown",
   "metadata": {
    "slideshow": {
     "slide_type": "slide"
    }
   },
   "source": [
    "# Parting Words\n",
    "\n",
    "> Metaclasses are deeper magic than 99% of users should ever worry about. **If you wonder whether you need them, you don't** (the people who actually need them know with certainty that they need them, and don't need an explanation about why) — [Tim Peters](https://stackoverflow.com/a/2005894).\n",
    "\n",
    "We may never _need_ them — but now we _know_ what they are."
   ]
  },
  {
   "cell_type": "markdown",
   "metadata": {
    "slideshow": {
     "slide_type": "subslide"
    }
   },
   "source": [
    "<img src=\"./images/Lightning_G0DeX.jpg\" style=\"height: 400px; width:auto\"/>\n",
    "\n",
    "[Photo](https://www.flickr.com/photos/132655238@N06/29110938761/) by G0DeX / [CC BY 2.0](https://creativecommons.org/licenses/by/2.0/0)"
   ]
  }
 ],
 "metadata": {
  "celltoolbar": "Slideshow",
  "kernelspec": {
   "display_name": "Python 3",
   "language": "python",
   "name": "python3"
  },
  "language_info": {
   "codemirror_mode": {
    "name": "ipython",
    "version": 3
   },
   "file_extension": ".py",
   "mimetype": "text/x-python",
   "name": "python",
   "nbconvert_exporter": "python",
   "pygments_lexer": "ipython3",
   "version": "3.4.3"
  }
 },
 "nbformat": 4,
 "nbformat_minor": 1
}
